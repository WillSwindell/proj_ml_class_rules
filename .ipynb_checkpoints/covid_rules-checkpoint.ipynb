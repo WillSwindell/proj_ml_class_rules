{
 "cells": [
  {
   "cell_type": "markdown",
   "metadata": {},
   "source": [
    "# Rules of survival\n",
    "\n",
    "### Mini-project\n",
    "\n",
    "In this small project you will use the PRISM Rule Learner algorithm to learn some rules about COVID-19 comorbidity factors. Write as much about your findings as possible. You may add external information/additional datasets for an extra-credit."
   ]
  },
  {
   "cell_type": "markdown",
   "metadata": {},
   "source": [
    "## 1. Algorithm\n",
    "\n",
    "Copy your implementation of the correct and tested algorithm in the cell below. You do not need to supply any comments or explanations. "
   ]
  },
  {
   "cell_type": "code",
   "execution_count": 26,
   "metadata": {},
   "outputs": [],
   "source": [
    "import numpy as np\n",
    "import pandas as pd\n",
    "from classes import *\n",
    "\n",
    "\n",
    "\n",
    "def learn_one_rule(columns, data, class_label, rule = None, min_coverage=30, min_accuracy=0.6):\n",
    "    covered = data.copy()\n",
    "    accuracy = 0.00\n",
    "    coverage = 0\n",
    "    if(rule != None):\n",
    "        current_rule = rule\n",
    "        accuracy = rule.accuracy\n",
    "        coverage = rule.coverage\n",
    "    else:\n",
    "        current_rule = Rule(class_label)\n",
    "\n",
    "    best_accuracy = 0.00\n",
    "    best_coverage = 0\n",
    "    attr = None\n",
    "    val = None\n",
    "    true_false = None\n",
    "\n",
    "    for col in columns[:-1]:\n",
    "        options = covered[col].unique().tolist()\n",
    "        for option in options:\n",
    "            if (isinstance(option, int) or isinstance(option, float)):\n",
    "                split1 = covered[covered[col] >= option]\n",
    "                split2 = covered[covered[col] < option]\n",
    "                if(len(split1) == 0):\n",
    "                    true_acc = 0.0\n",
    "                else:\n",
    "                    true_acc = len(split1[(split1[columns[-1]] == class_label)])/len(split1)\n",
    "                if(len(split2) == 0):\n",
    "                    false_acc = 0.0\n",
    "                else:\n",
    "                    false_acc = len(split2[(split2[columns[-1]] == class_label)])/len(split2)\n",
    "                true_false = (true_acc > false_acc)\n",
    "                curr_acc = max(true_acc, false_acc)\n",
    "                curr_cov = 0\n",
    "                if(true_false == True):\n",
    "                    curr_cov = len(split1)\n",
    "                else:\n",
    "                    curr_cov = len(split2)\n",
    "\n",
    "                if(curr_acc > best_accuracy or (curr_acc == best_accuracy and curr_cov > best_coverage)):\n",
    "                    best_accuracy = curr_acc\n",
    "                    best_coverage = curr_cov\n",
    "                    attr = col\n",
    "                    val = option\n",
    "\n",
    "            else:\n",
    "                split = covered[covered[col] == option]\n",
    "                #print(col, option, class_label)\n",
    "                #print(split)\n",
    "                #print(len(split[(split[columns[-1]] == class_label)]))\n",
    "                #print(len(split))\n",
    "\n",
    "                curr_acc = len(split[(split[columns[-1]] == class_label)])/len(split)\n",
    "                #print(curr_acc)\n",
    "\n",
    "                curr_cov = len(split)\n",
    "\n",
    "\n",
    "\n",
    "                if(curr_acc > best_accuracy or (curr_acc == best_accuracy and curr_cov > best_coverage)):\n",
    "                    true_false = None\n",
    "                    best_accuracy = curr_acc\n",
    "                    best_coverage = curr_cov\n",
    "                    attr = col\n",
    "                    val = option\n",
    "\n",
    "\n",
    "    if(best_accuracy >= 1 and best_coverage >= min_coverage):\n",
    "        cond = Condition(attr, val, true_false)\n",
    "        current_rule.addCondition(cond)\n",
    "        current_rule.setParams(best_accuracy, best_coverage)\n",
    "        if(true_false is not None):\n",
    "            if(true_false == True):\n",
    "                covered = covered[(covered[attr] >= val)]\n",
    "            else:\n",
    "                covered = covered[(covered[attr] < val)]\n",
    "        else:\n",
    "            covered = covered[(covered[attr] == val)]\n",
    "\n",
    "\n",
    "        return (current_rule, covered)\n",
    "\n",
    "    else:\n",
    "        if(len(columns) <= 2):\n",
    "            if(best_accuracy >= min_accuracy and best_coverage >= min_coverage):\n",
    "                cond = Condition(attr, val, true_false)\n",
    "                current_rule.addCondition(cond)\n",
    "                current_rule.setParams(best_accuracy, best_coverage)\n",
    "                if(true_false is not None):\n",
    "                    if(true_false == True):\n",
    "                        covered = covered[(covered[attr] >= val)]\n",
    "                    else:\n",
    "                        covered = covered[(covered[attr] < val)]\n",
    "                else:\n",
    "                    covered = covered[(covered[attr] == val)]\n",
    "\n",
    "                return (current_rule, covered)\n",
    "            else:\n",
    "                return (None, covered)\n",
    "        else:\n",
    "\n",
    "            cond = Condition(attr, val, true_false)\n",
    "            current_rule.addCondition(cond)\n",
    "            current_rule.setParams(best_accuracy, best_coverage)\n",
    "            if(true_false is not None):\n",
    "                if(true_false == True):\n",
    "                    covered = covered[(covered[attr] >= val)]\n",
    "                else:\n",
    "                    covered = covered[(covered[attr] < val)]\n",
    "            else:\n",
    "                covered = covered[(covered[attr] == val)]\n",
    "            #print(covered)\n",
    "            copy = columns.copy()\n",
    "            copy.remove(attr)\n",
    "            new = (min_coverage+1)\n",
    "            return learn_one_rule(copy, covered, class_label, current_rule, min_coverage, min_accuracy)\n",
    "\n",
    "\n",
    "    return None\n",
    "\n",
    "\n",
    "\n",
    "def learn_rules (columns, data, classes=None,\n",
    "                 min_coverage = 30, min_accuracy = 0.6):\n",
    "    # List of final rules\n",
    "    rules = []\n",
    "\n",
    "    # If list of classes of interest is not provided - it is extracted from the last column of data\n",
    "    if classes is not None:\n",
    "        class_labels = classes\n",
    "    else:\n",
    "        class_labels = data[columns[-1]].unique().tolist()\n",
    "\n",
    "    current_data = data.copy()\n",
    "\n",
    "    # This follows the logic of the original PRISM algorithm\n",
    "    # It processes each class in turn.\n",
    "    for class_label in class_labels:\n",
    "        done = False\n",
    "\n",
    "        while len(current_data) > min_coverage and not done:\n",
    "            # Learn one rule\n",
    "            rule, subset = learn_one_rule(columns, current_data, class_label, min_coverage=min_coverage, min_accuracy=min_accuracy)\n",
    "\n",
    "            # If the best rule does not pass the coverage threshold - we are done with this class\n",
    "            if rule is None:\n",
    "                done = True\n",
    "                continue\n",
    "\n",
    "            # If we get the rule with accuracy and coverage above threshold\n",
    "\n",
    "            if rule.accuracy >= min_accuracy:\n",
    "                rules.append(rule)\n",
    "\n",
    "                # remove rows covered by this rule\n",
    "                # you have to remove the rows where all of the conditions hold\n",
    "                #print(current_data)\n",
    "                #current_data = current_data[(current_data['astigmatism'] != 'yes')]\n",
    "                #current_data = current_data[(current_data['tear production rate'] != 'reduced')]\n",
    "\n",
    "                current_data = (current_data[~current_data.isin(subset).all(1)])\n",
    "\n",
    "\n",
    "\n",
    "            else:\n",
    "                done = True\n",
    "\n",
    "    return rules\n"
   ]
  },
  {
   "cell_type": "markdown",
   "metadata": {},
   "source": [
    "## 2. Titanic dataset: the rules of survival"
   ]
  },
  {
   "cell_type": "markdown",
   "metadata": {},
   "source": [
    "Our very familiar Titanic [dataset](https://docs.google.com/spreadsheets/d/1QGNxqRU02eAvTGih1t0cErB5R05mdOdUBgJZACGcuvs/edit?usp=sharing)."
   ]
  },
  {
   "cell_type": "code",
   "execution_count": 27,
   "metadata": {},
   "outputs": [],
   "source": [
    "data_file = \"../../Datasets/titanic.csv\""
   ]
  },
  {
   "cell_type": "code",
   "execution_count": 28,
   "metadata": {},
   "outputs": [
    {
     "name": "stdout",
     "output_type": "stream",
     "text": [
      "Total rows 714\n",
      "Columns: ['Pclass', 'Sex', 'Age', 'Survived']\n"
     ]
    }
   ],
   "source": [
    "data = pd.read_csv(data_file)\n",
    "\n",
    "# take a subset of attributes\n",
    "data = data[['Pclass', 'Sex', 'Age', 'Survived']]\n",
    "\n",
    "# drop all columns and rows with missing values\n",
    "data = data.dropna(how=\"any\")\n",
    "print(\"Total rows\", len(data))\n",
    "\n",
    "column_list = data.columns.to_numpy().tolist()\n",
    "print(\"Columns:\", column_list)"
   ]
  },
  {
   "cell_type": "code",
   "execution_count": 29,
   "metadata": {},
   "outputs": [
    {
     "name": "stdout",
     "output_type": "stream",
     "text": [
      "If [Age>=1.0:True, Sex=female, Pclass>=2:False] then 1. Coverage:85, accuracy: 0.9647058823529412\n",
      "If [Age>=1.0:True, Sex=female, Pclass>=3:True] then 1. Coverage:74, accuracy: 0.918918918918919\n",
      "If [Age>=1.0:True, Sex=female, Pclass>=2:True] then 1. Coverage:74, accuracy: 0.918918918918919\n",
      "If [Age>=64.0:False, Pclass>=2:True, Sex=male] then 0. Coverage:347, accuracy: 0.8472622478386167\n"
     ]
    }
   ],
   "source": [
    "# we can set different accuracy thresholds\n",
    "# here we can reorder class labels - to first learn the rules with class label \"survived\".\n",
    "\n",
    "rules = learn_rules(column_list, data, [1,0], 30, 0.7)\n",
    "for rule in rules[:10]:\n",
    "    print(rule)"
   ]
  },
  {
   "cell_type": "markdown",
   "metadata": {},
   "source": [
    "## 3. Coronavirus: symptoms and outcome"
   ]
  },
  {
   "cell_type": "markdown",
   "metadata": {},
   "source": [
    "Coronavirus [dataset](https://drive.google.com/file/d/1uVd09ekR1ArLrA8qN-Xtu4l-FFbmetVy/view?usp=sharing) (preprocessed as outlined [here](rules_motivation.ipynb))."
   ]
  },
  {
   "cell_type": "code",
   "execution_count": 30,
   "metadata": {},
   "outputs": [],
   "source": [
    "data_file = \"../../Datasets/covid_categorical_good.csv\""
   ]
  },
  {
   "cell_type": "code",
   "execution_count": 31,
   "metadata": {},
   "outputs": [
    {
     "data": {
      "text/plain": [
       "Index(['sex', 'age', 'diabetes', 'copd', 'asthma', 'imm_supr', 'hypertension',\n",
       "       'cardiovascular', 'obesity', 'renal_chronic', 'tobacco', 'outcome'],\n",
       "      dtype='object')"
      ]
     },
     "execution_count": 31,
     "metadata": {},
     "output_type": "execute_result"
    }
   ],
   "source": [
    "data = pd.read_csv(data_file)\n",
    "data = data.dropna(how=\"any\")\n",
    "data.columns"
   ]
  },
  {
   "cell_type": "markdown",
   "metadata": {},
   "source": [
    "Most accurate rules will have class label \"alive\". There could be too many rules, and we might never get to the class label \"dead\" if we rank them by accuracy. \n",
    "\n",
    "If we want to see which combination of attributes leads to \"dead\", we might want to run the algorithm with only this class label and set the lower accuracy threshold.\n",
    "\n",
    "Remove the _age_ attribute and run your algorithm with parameters shown below."
   ]
  },
  {
   "cell_type": "code",
   "execution_count": 32,
   "metadata": {},
   "outputs": [
    {
     "name": "stdout",
     "output_type": "stream",
     "text": [
      "If [renal_chronic=yes, diabetes=yes, cardiovascular=yes, obesity=no, sex=male, copd=yes, imm_supr=no] then dead. Coverage:8, accuracy: 1.0\n"
     ]
    }
   ],
   "source": [
    "# We really want to learn first what makes covid deadly\n",
    "data_categorical = data.copy()\n",
    "del data_categorical['age']\n",
    "data_rows = data_categorical.to_numpy().tolist()\n",
    "columns_list = data_categorical.columns.to_numpy().tolist()\n",
    "\n",
    "class_labels = [\"dead\"]\n",
    "rules = learn_rules (columns_list, data_categorical, class_labels, 2, 0.5)\n",
    "for rule in rules[:20]:\n",
    "    print(rule)"
   ]
  },
  {
   "cell_type": "markdown",
   "metadata": {},
   "source": [
    "Now try on both classes and for the entire dataset including _age_. Collect top 20 most accurate rules."
   ]
  },
  {
   "cell_type": "code",
   "execution_count": 37,
   "metadata": {},
   "outputs": [
    {
     "name": "stdout",
     "output_type": "stream",
     "text": [
      "If [age>=106:True] then alive. Coverage:6, accuracy: 1.0\n",
      "If [age>=26:False, tobacco=yes, asthma=yes] then alive. Coverage:47, accuracy: 1.0\n",
      "If [age>=26:False, tobacco=yes, cardiovascular=yes] then alive. Coverage:15, accuracy: 1.0\n",
      "If [age>=26:False, tobacco=yes, copd=yes] then alive. Coverage:2, accuracy: 1.0\n",
      "If [age>=26:False, tobacco=yes, sex=female, obesity=yes] then alive. Coverage:82, accuracy: 1.0\n",
      "If [age>=26:False, tobacco=yes, obesity=no, diabetes=yes] then alive. Coverage:6, accuracy: 1.0\n",
      "If [age>=26:False, tobacco=yes, obesity=no, hypertension=no, sex=female, renal_chronic=yes] then alive. Coverage:1, accuracy: 1.0\n",
      "If [age>=26:False, tobacco=yes, obesity=no, hypertension=no, sex=female, diabetes=no, copd=no, asthma=no, imm_supr=no, cardiovascular=no, renal_chronic=no] then alive. Coverage:264, accuracy: 0.9962121212121212\n",
      "If [age>=26:False, hypertension=no, copd=yes] then alive. Coverage:22, accuracy: 1.0\n",
      "If [age>=26:False, hypertension=no, tobacco=yes, obesity=no, renal_chronic=no, imm_supr=no, sex=male, diabetes=no, copd=no, asthma=no, cardiovascular=no] then alive. Coverage:677, accuracy: 0.9970457902511078\n",
      "If [age>=29:False, hypertension=no, sex=female, copd=yes] then alive. Coverage:10, accuracy: 1.0\n",
      "If [age>=29:False, hypertension=no, sex=female, tobacco=yes, imm_supr=no] then alive. Coverage:331, accuracy: 1.0\n",
      "If [age>=26:False, asthma=yes, diabetes=yes] then alive. Coverage:13, accuracy: 1.0\n",
      "If [age>=26:False, sex=female, asthma=yes, obesity=no] then alive. Coverage:237, accuracy: 1.0\n",
      "If [age>=29:False, hypertension=no, sex=female, obesity=no, imm_supr=no, diabetes=no, renal_chronic=no, cardiovascular=no, asthma=no, copd=no, tobacco=no] then alive. Coverage:12259, accuracy: 0.9954319275634228\n",
      "If [age>=30:False, hypertension=no, obesity=no, tobacco=yes, asthma=yes] then alive. Coverage:25, accuracy: 1.0\n",
      "If [age>=30:False, hypertension=no, obesity=no, tobacco=yes, diabetes=yes] then alive. Coverage:7, accuracy: 1.0\n",
      "If [age>=30:False, hypertension=no, obesity=no, tobacco=yes, cardiovascular=yes] then alive. Coverage:4, accuracy: 1.0\n",
      "If [age>=30:False, hypertension=no, obesity=no, tobacco=yes, copd=yes] then alive. Coverage:1, accuracy: 1.0\n",
      "If [age>=30:False, hypertension=no, obesity=no, tobacco=yes, imm_supr=no, sex=female] then alive. Coverage:89, accuracy: 1.0\n"
     ]
    }
   ],
   "source": [
    "# This may take some time to run (took 12 min on my computer - what about your implementation?)\n",
    "columns_list = data.columns.to_numpy().tolist()\n",
    "rules = learn_rules (columns_list, data, None, 1, 0.9)\n",
    "for rule in rules[:20]:\n",
    "    print(rule)"
   ]
  },
  {
   "cell_type": "markdown",
   "metadata": {},
   "source": [
    "## 4. Discussion\n",
    "\n",
    "Write here a discussion about the rules that you have learned from both datasets. \n",
    "\n",
    "1. Did any of these rules surprise you?\n",
    "\n",
    "Simply due to the large number of people who are marked as \"alive\" in the dataset, it seems there are a lot of rules that are seemingly illogical with what we know about Covid-19. For example, we know that tobacco and asthma in themselves increase the risk of death from Covid-19, but one of the rules we found states that people under the age of 26 with _both_ of these conditions will be alive with an accuracy of 100 percent (and relatively high coverage with 47). There are several rules that are similar to this one, notably the following: (note I reduced the coverage limit to learn as much as possible from this data)\n",
    "\n",
    "- If age>=26:False, tobacco=yes, cardiovascular=yes then alive. Coverage:15, accuracy: 1.0\n",
    "- If age>=26:False, asthma=yes, diabetes=yes then alive. Coverage:13, accuracy: 1.0\n",
    "\n",
    "Another really interesting note is that tobacco usage seems to be present in many of these rules, and the rules predict \"alive\" in all cases. Even when there is a rule with a majority of \"no\" indicators, a \"yes\" tobacco indicator is present sometimes. The following rule seems especially strange:\n",
    "\n",
    "- If age>=26:False, tobacco=yes, obesity=no, hypertension=no, sex=female, diabetes=no, copd=no, asthma=no, imm_supr=no, cardiovascular=no, renal_chronic=no then alive. Coverage:264, accuracy: 0.9962121212121212\n",
    "\n",
    "2. Do you have a meaningful logical explanation for these rules?\n",
    "\n",
    "The most meaningful explanation I think I can give for these results is that the death rate of Covid-19 is so low that it is difficult to discern any meaningful results from rule generation with this dataset. While each of the conditions in the dataset are known to be risk factors for Covid-19 related deaths, the odds of dying with these conditions is still so low that the majority of rules will be associated with a living patient, and it is near impossible to find an association between different conditions where a high number of patients died. \n",
    "\n",
    "3. What additional research is needed to understand the meaning of your findings?\n",
    "\n",
    "We certainly would need to conduct more research into how risk factors interact with one another in the face of Covid-19. Someone with one condition is undoubtedly at a higher risk of dying from Covid-19, but if they have multiple conditions, is their risk compounded? Do some conditions make the symptoms from another condition worse? Also, for some of these conditions, an indication into the severity of the condition might be helpful. For example, with obesity, is this person just barely over the obesity threshold, or is this someone who is well beyond the threshold and has very unhealthy habits? How much tobacco does the person use? These are just a few of the questions that might. help us narrow down the true causes of death from Covid-19."
   ]
  },
  {
   "cell_type": "markdown",
   "metadata": {},
   "source": [
    "Copyright &copy; 2022 Marina Barsky. All rights reserved."
   ]
  }
 ],
 "metadata": {
  "kernelspec": {
   "display_name": "Python 3",
   "language": "python",
   "name": "python3"
  },
  "language_info": {
   "codemirror_mode": {
    "name": "ipython",
    "version": 3
   },
   "file_extension": ".py",
   "mimetype": "text/x-python",
   "name": "python",
   "nbconvert_exporter": "python",
   "pygments_lexer": "ipython3",
   "version": "3.8.5"
  }
 },
 "nbformat": 4,
 "nbformat_minor": 4
}
